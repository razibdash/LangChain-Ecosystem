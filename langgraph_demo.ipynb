{
 "cells": [
  {
   "cell_type": "code",
   "execution_count": 6,
   "id": "5d449166",
   "metadata": {},
   "outputs": [],
   "source": [
    "import os\n",
    "from dotenv import load_dotenv, find_dotenv\n",
    "_ = load_dotenv(find_dotenv())\n",
    "GROQ_API_KEY = os.environ.get(\"GROQ_API_KEY\")\n"
   ]
  },
  {
   "cell_type": "code",
   "execution_count": null,
   "id": "ff775ebe",
   "metadata": {},
   "outputs": [
    {
     "name": "stderr",
     "output_type": "stream",
     "text": [
      "d:\\anaconda\\envs\\llmapp\\Lib\\site-packages\\langchain_groq\\chat_models.py:402: UserWarning: WARNING! max_completion_tokens is not default parameter.\n",
      "                    max_completion_tokens was transferred to model_kwargs.\n",
      "                    Please confirm that max_completion_tokens is what you intended.\n",
      "  warnings.warn(\n",
      "d:\\anaconda\\envs\\llmapp\\Lib\\site-packages\\langchain_groq\\chat_models.py:402: UserWarning: WARNING! top_p is not default parameter.\n",
      "                    top_p was transferred to model_kwargs.\n",
      "                    Please confirm that top_p is what you intended.\n",
      "  warnings.warn(\n"
     ]
    }
   ],
   "source": [
    "from langchain_groq import ChatGroq\n",
    "model = ChatGroq(\n",
    "    api_key=GROQ_API_KEY,\n",
    "    model=\"llama3-70b-8192\",\n",
    "    temperature=1,\n",
    "    max_completion_tokens=1024,\n",
    "    top_p=1,\n",
    ")"
   ]
  },
  {
   "cell_type": "code",
   "execution_count": 10,
   "id": "9621d02c",
   "metadata": {},
   "outputs": [
    {
     "data": {
      "text/plain": [
       "AIMessage(content=\"I apologize, but since 2025 has not yet arrived, there is no latest news on an India-Pakistan war in 2025. As of now, there is no ongoing war between India and Pakistan.\\n\\nHowever, I can provide you with some general information on the current relations between India and Pakistan. The two countries have a complex and often tense relationship, with periodic outbreaks of violence and skirmishes along their border, particularly in the disputed region of Kashmir.\\n\\nIn recent years, there have been several incidents of cross-border firing and militant attacks, which have led to fatalities on both sides. The situation remains volatile, with both countries exchanging accusations and blame.\\n\\nBut, as of today, there is no full-scale war between India and Pakistan. Diplomatic efforts and international pressure have helped to maintain a fragile peace, and both countries are engaged in efforts to reduce tensions and resolve their differences through dialogue.\\n\\nIt's worth noting that predicting the future is uncertain, and it's impossible to say with certainty whether there will be a war between India and Pakistan in 2025 or not. I can only provide you with information on the current situation and historical context.\\n\\nIf you're interested in staying updated on the latest news and developments on India-Pakistan relations, I recommend following reputable news sources and websites that provide accurate and unbiased reporting.\", additional_kwargs={}, response_metadata={'token_usage': {'completion_tokens': 266, 'prompt_tokens': 25, 'total_tokens': 291, 'completion_time': 0.84257887, 'prompt_time': 0.000483482, 'queue_time': 0.053871708, 'total_time': 0.843062352}, 'model_name': 'llama3-70b-8192', 'system_fingerprint': 'fp_dd4ae1c591', 'finish_reason': 'stop', 'logprobs': None}, id='run--a6e327c9-3f2c-4273-8a98-2d21e8303ed2-0', usage_metadata={'input_tokens': 25, 'output_tokens': 266, 'total_tokens': 291})"
      ]
     },
     "execution_count": 10,
     "metadata": {},
     "output_type": "execute_result"
    }
   ],
   "source": [
    "model.invoke(\"Tell me the lastest news of India and pakistan war in 2025\")"
   ]
  },
  {
   "cell_type": "code",
   "execution_count": 15,
   "id": "cbcec056",
   "metadata": {},
   "outputs": [
    {
     "name": "stderr",
     "output_type": "stream",
     "text": [
      "C:\\Users\\DELL\\AppData\\Local\\Temp\\ipykernel_13060\\116024295.py:2: LangChainDeprecationWarning: The class `TavilySearchResults` was deprecated in LangChain 0.3.25 and will be removed in 1.0. An updated version of the class exists in the :class:`~langchain-tavily package and should be used instead. To use it run `pip install -U :class:`~langchain-tavily` and import as `from :class:`~langchain_tavily import TavilySearch``.\n",
      "  search = TavilySearchResults(max_results=3)\n"
     ]
    },
    {
     "data": {
      "text/plain": [
       "[{'title': '2025 India–Pakistan conflict - Wikipedia',\n",
       "  'url': 'https://en.wikipedia.org/wiki/2025_India%E2%80%93Pakistan_conflict',\n",
       "  'content': '61.   ^Latif, Aamir (28 May 2025). \"Pakistan shot down 6 Indian jets, including 4 French-made Rafale during conflict: Premier Sharif\". _Anadolu Agency_. Retrieved 31 May 2025. [...] 193.   ^Sen, Sudhi Ranjan; Tandon, Naman (31 May 2025). \"India Confirms It Lost Fighter Jets in Recent Pakistan Conflict\". _Bloomberg_. Archived from the original on 1 June 2025. Retrieved 1 June 2025.\\n194.   ^ Jump up to: _a__b__c_Gopalakrishnan, Raju; Kok, Xinghui; Kok, Xinghui (31 May 2025). \"India says changed tactics worked well in conflict with Pakistan\". _Reuters_. Retrieved 31 May 2025. [...] 100.   ^\"DG ISPR challenges Delhi to produce evidence of Pakistan\\'s missile, drone attacks in India\". _The Express Tribune_. 9 May 2025. Retrieved 10 May 2025.\\n101.   ^Lateef, Samaan (9 May 2025). \"Pakistan and India slide towards all-out war after new wave of strikes\". _The Telegraph_. ISSN \"ISSN (identifier)\")0307-1235. Retrieved 25 May 2025.\\n102.   ^Pakistan Army\\'s spokesman claims India fired ballistic missiles that fell into Indian territory, Reuters, 9 May 2025',\n",
       "  'score': 0.8808076},\n",
       " {'title': '2025 India–Pakistan crisis - Wikipedia',\n",
       "  'url': 'https://en.wikipedia.org/wiki/2025_India%E2%80%93Pakistan_crisis',\n",
       "  'content': '118.   ^\"Flights avoid Pakistan airspace after India\\'s pre-dawn missile strikes\". _The Independent_. 8 May 2025. Retrieved 8 May 2025.\\n119.   ^\"Pakistani stars fire back at India\\'s war talk, call for peace with strength\". _The News_. Retrieved 4 May 2025.\\n120.   ^\"India-Pakistan conflict: \\'We need to stand united\\'\". _BBC_. 9 May 2025.\\n121.   ^\"Nepali human rights activists protest in front of Pakistan Embassy in Kathmandu, calls for de-escalation\". _Lokmat Times_. 9 May 2025. [...] 72.   ^Naqash, Tariq (30 April 2025). \"Two Indian drones shot down near LoC\". _Dawn \"Dawn (newspaper)\")_. Retrieved 30 April 2025.\\n73.   ^Shahzad, Asif; Shahzad, Asif (29 April 2025). \"Pakistan defence minister says military incursion by India is imminent\". _Reuters_.\\n74.   ^\"Pakistan says intelligence suggests Indian military action likely soon\". 2025. Archived from the original on 29 April 2025. Retrieved 30 April 2025.',\n",
       "  'score': 0.87348515},\n",
       " {'title': 'The May 2025 India-Pakistan Conflict: Neither Quite the Same Nor ...',\n",
       "  'url': 'https://www.nbr.org/publication/the-may-2025-india-pakistan-conflict-neither-quite-the-same-nor-quite-another/',\n",
       "  'content': 'Morgan Phillips, “Vance Says India-Pakistan Conflict ‘None of Our Business’ as Trump Offers U.S. Help,” Fox News, May 9, 2025,  and Aijaz Hussain and Sheikh Saaliq, “Trump’s Mediation Offer Renews Focus on Kashmir after India-Pakistan Clash Risked Broader War,” Associated Press, May 12, 2025, \\n\\n Anbarasan Ethirajan, “Is China the Winner in the India-Pakistan Conflict?” BBC, May 19, 2025,',\n",
       "  'score': 0.8627572}]"
      ]
     },
     "execution_count": 15,
     "metadata": {},
     "output_type": "execute_result"
    }
   ],
   "source": [
    "from langchain_community.tools.tavily_search import TavilySearchResults\n",
    "search = TavilySearchResults(max_results=3)\n",
    "search.invoke(\"Tell me the lastest news of India and pakistan war in 2025\")"
   ]
  },
  {
   "cell_type": "code",
   "execution_count": 17,
   "id": "c2745667",
   "metadata": {},
   "outputs": [
    {
     "data": {
      "text/plain": [
       "[TavilySearchResults(max_results=3, api_wrapper=TavilySearchAPIWrapper(tavily_api_key=SecretStr('**********')))]"
      ]
     },
     "execution_count": 17,
     "metadata": {},
     "output_type": "execute_result"
    }
   ],
   "source": [
    "tools = [search]\n",
    "tools"
   ]
  },
  {
   "cell_type": "code",
   "execution_count": 19,
   "id": "84c1a0ab",
   "metadata": {},
   "outputs": [],
   "source": [
    "from langgraph.prebuilt import create_react_agent\n",
    "\n",
    "agent_executor = create_react_agent(model, tools)"
   ]
  },
  {
   "cell_type": "code",
   "execution_count": 20,
   "id": "388bf8f6",
   "metadata": {},
   "outputs": [
    {
     "data": {
      "text/plain": [
       "[HumanMessage(content='Tell me the lastest news of India and pakistan war in 2025', additional_kwargs={}, response_metadata={}, id='a282507f-fca1-46be-83a5-da90bf247886'),\n",
       " AIMessage(content='', additional_kwargs={'tool_calls': [{'id': '6fxt0xtn7', 'function': {'arguments': '{\"query\":\"latest news India Pakistan war 2025\"}', 'name': 'tavily_search_results_json'}, 'type': 'function'}]}, response_metadata={'token_usage': {'completion_tokens': 54, 'prompt_tokens': 931, 'total_tokens': 985, 'completion_time': 0.160718631, 'prompt_time': 0.030126314, 'queue_time': 0.061052643000000004, 'total_time': 0.190844945}, 'model_name': 'llama3-70b-8192', 'system_fingerprint': 'fp_dd4ae1c591', 'finish_reason': 'tool_calls', 'logprobs': None}, id='run--a91dd413-45d9-4a56-aac4-14cabb790db8-0', tool_calls=[{'name': 'tavily_search_results_json', 'args': {'query': 'latest news India Pakistan war 2025'}, 'id': '6fxt0xtn7', 'type': 'tool_call'}], usage_metadata={'input_tokens': 931, 'output_tokens': 54, 'total_tokens': 985}),\n",
       " ToolMessage(content='[{\"title\": \"The May 2025 India-Pakistan Conflict: Neither Quite the Same Nor ...\", \"url\": \"https://www.nbr.org/publication/the-may-2025-india-pakistan-conflict-neither-quite-the-same-nor-quite-another/\", \"content\": \"Morgan Phillips, “Vance Says India-Pakistan Conflict ‘None of Our Business’ as Trump Offers U.S. Help,” Fox News, May 9, 2025,  and Aijaz Hussain and Sheikh Saaliq, “Trump’s Mediation Offer Renews Focus on Kashmir after India-Pakistan Clash Risked Broader War,” Associated Press, May 12, 2025, \\\\n\\\\n Anbarasan Ethirajan, “Is China the Winner in the India-Pakistan Conflict?” BBC, May 19, 2025, [...] Cristopher Clary, “Four Days in May: The India-Pakistan Crisis of 2025,” Stimson, May 28, 2025, \\\\n\\\\n “Transcript of Special briefing on OPERATION SINDOOR,” Ministry of External Affairs (India), May 9, 2025, \\\\n\\\\n Rahul Roy-Chaudhury, “India-Pakistan Drone and Missile Conflict: Differing and Disputed Narratives,” International Institute for Strategic Studies, May 15, 2025, \\\\n\\\\n Clary, “Four Days in May.” [...] On May 10, 2025, following four days of intense fighting, India and Pakistan accepted a ceasefire, putting an end to what had been the greatest military escalation between the two countries in decades. Initially broken within a matter of hours, the ensuing uneasy truce remains in effect at the time of writing.\", \"score\": 0.8742601}, {\"title\": \"2025 India–Pakistan crisis - Wikipedia\", \"url\": \"https://en.wikipedia.org/wiki/2025_India%E2%80%93Pakistan_crisis\", \"content\": \"| |  |  | | --- | --- | | Date | 23 April 2025 – 10 May 2025 (2 weeks and 3 days) | | Location | International Boundary and Line of Control | | Status | Ceasefire   Cancellation of Indus Water Treaty and Shimla Agreement  Visa cancellation and travel ban for Pakistanis in India  Expulsion of Pakistani diplomats from India and withdrawal of Indian counterparts from Pakistan  Suspension of all trade including through third countries with India by Pakistan  Closure of Pakistani airspace for Indian [...] Following the Pahalgam terrorist attack on 22 April 2025, a crisis emerged between India and Pakistan, sparked by the killing of 25 Indian tourists by the militants in Kashmir. The Resistance Front (TRF) initially claimed responsibility for the attack. Armed skirmishes between India and Pakistan were reported along the Line of Control (LoC) beginning on 24 April. On 7 May 2025, India launched missile strikes in Pakistan, leading to a military conflict between the two countries. On 7 May 2025 [...] On 7 May 2025, India launched missile strikes on Pakistan, codenamed Operation Sindoor. According to India, the missile strikes targeted the militant groups Jaish-e-Mohammed and Lashkar-e-Taiba. According to Pakistan, the Indian strikes targeted civilian areas, including mosques, killing 31 Pakistani civilians. In return, said they had downed a number of Indian jets and damaged Indian infrastructure. It was believed to be the heaviest shelling attack since the Indo-Pakistani war of 1971. On\", \"score\": 0.8724455}, {\"title\": \"May 9, 2025 - India-Pakistan news - CNN\", \"url\": \"https://www.cnn.com/world/live-news/india-pakistan-operation-sindoor-05-09-25-intl-hnk\", \"content\": \"... • New attacks: Pakistan said India launched missiles at key military bases, including a base close to the capital of Islamabad.\", \"score\": 0.8377398}]', name='tavily_search_results_json', id='fa401246-8604-42ae-8b12-8f1457c5a7ba', tool_call_id='6fxt0xtn7', artifact={'query': 'latest news India Pakistan war 2025', 'follow_up_questions': None, 'answer': None, 'images': [], 'results': [{'url': 'https://www.nbr.org/publication/the-may-2025-india-pakistan-conflict-neither-quite-the-same-nor-quite-another/', 'title': 'The May 2025 India-Pakistan Conflict: Neither Quite the Same Nor ...', 'content': 'Morgan Phillips, “Vance Says India-Pakistan Conflict ‘None of Our Business’ as Trump Offers U.S. Help,” Fox News, May 9, 2025,  and Aijaz Hussain and Sheikh Saaliq, “Trump’s Mediation Offer Renews Focus on Kashmir after India-Pakistan Clash Risked Broader War,” Associated Press, May 12, 2025, \\n\\n Anbarasan Ethirajan, “Is China the Winner in the India-Pakistan Conflict?” BBC, May 19, 2025, [...] Cristopher Clary, “Four Days in May: The India-Pakistan Crisis of 2025,” Stimson, May 28, 2025, \\n\\n “Transcript of Special briefing on OPERATION SINDOOR,” Ministry of External Affairs (India), May 9, 2025, \\n\\n Rahul Roy-Chaudhury, “India-Pakistan Drone and Missile Conflict: Differing and Disputed Narratives,” International Institute for Strategic Studies, May 15, 2025, \\n\\n Clary, “Four Days in May.” [...] On May 10, 2025, following four days of intense fighting, India and Pakistan accepted a ceasefire, putting an end to what had been the greatest military escalation between the two countries in decades. Initially broken within a matter of hours, the ensuing uneasy truce remains in effect at the time of writing.', 'score': 0.8742601, 'raw_content': None}, {'url': 'https://en.wikipedia.org/wiki/2025_India%E2%80%93Pakistan_crisis', 'title': '2025 India–Pakistan crisis - Wikipedia', 'content': '| |  |  | | --- | --- | | Date | 23 April 2025 – 10 May 2025 (2 weeks and 3 days) | | Location | International Boundary and Line of Control | | Status | Ceasefire   Cancellation of Indus Water Treaty and Shimla Agreement  Visa cancellation and travel ban for Pakistanis in India  Expulsion of Pakistani diplomats from India and withdrawal of Indian counterparts from Pakistan  Suspension of all trade including through third countries with India by Pakistan  Closure of Pakistani airspace for Indian [...] Following the Pahalgam terrorist attack on 22 April 2025, a crisis emerged between India and Pakistan, sparked by the killing of 25 Indian tourists by the militants in Kashmir. The Resistance Front (TRF) initially claimed responsibility for the attack. Armed skirmishes between India and Pakistan were reported along the Line of Control (LoC) beginning on 24 April. On 7 May 2025, India launched missile strikes in Pakistan, leading to a military conflict between the two countries. On 7 May 2025 [...] On 7 May 2025, India launched missile strikes on Pakistan, codenamed Operation Sindoor. According to India, the missile strikes targeted the militant groups Jaish-e-Mohammed and Lashkar-e-Taiba. According to Pakistan, the Indian strikes targeted civilian areas, including mosques, killing 31 Pakistani civilians. In return, said they had downed a number of Indian jets and damaged Indian infrastructure. It was believed to be the heaviest shelling attack since the Indo-Pakistani war of 1971. On', 'score': 0.8724455, 'raw_content': None}, {'url': 'https://www.cnn.com/world/live-news/india-pakistan-operation-sindoor-05-09-25-intl-hnk', 'title': 'May 9, 2025 - India-Pakistan news - CNN', 'content': '... • New attacks: Pakistan said India launched missiles at key military bases, including a base close to the capital of Islamabad.', 'score': 0.8377398, 'raw_content': None}], 'response_time': 6.76}),\n",
       " AIMessage(content=\"Based on the tool call result, it appears that there was a significant conflict between India and Pakistan in May 2025. Here's a summary of what happened:\\n\\n* The conflict started on April 23, 2025, with a terrorist attack in Pahalgam, Kashmir, which killed 25 Indian tourists. The Resistance Front (TRF) claimed responsibility for the attack.\\n* The attack led to armed skirmishes between India and Pakistan along the Line of Control (LoC), which escalated into a military conflict.\\n* On May 7, 2025, India launched missile strikes on Pakistan, codenamed Operation Sindoor, targeting militant groups Jaish-e-Mohammed and Lashkar-e-Taiba. Pakistan claimed that the Indian strikes targeted civilian areas, including mosques, killing 31 Pakistani civilians.\\n* The conflict led to a significant escalation, with both sides exchanging artillery fire and airstrikes. The situation was so intense that it was believed to be the heaviest shelling attack since the Indo-Pakistani war of 1971.\\n* A ceasefire was eventually agreed upon on May 10, 2025, bringing an end to the intense fighting. However, the situation remains tense, with both sides taking measures such as cancelling visa agreements, suspending trade, and expelling diplomats.\\n\\nIt's worth noting that the conflict had significant international attention, with the US offering to mediate and China being seen as a potential winner in the conflict.\", additional_kwargs={}, response_metadata={'token_usage': {'completion_tokens': 296, 'prompt_tokens': 1853, 'total_tokens': 2149, 'completion_time': 0.845714286, 'prompt_time': 0.075583594, 'queue_time': 0.054039195999999984, 'total_time': 0.92129788}, 'model_name': 'llama3-70b-8192', 'system_fingerprint': 'fp_dd4ae1c591', 'finish_reason': 'stop', 'logprobs': None}, id='run--eb38c91f-b46e-4c6e-940d-03d9bc47ad8b-0', usage_metadata={'input_tokens': 1853, 'output_tokens': 296, 'total_tokens': 2149})]"
      ]
     },
     "execution_count": 20,
     "metadata": {},
     "output_type": "execute_result"
    }
   ],
   "source": [
    "from langchain_core.messages import HumanMessage\n",
    "\n",
    "response = agent_executor.invoke({\"messages\": [HumanMessage(content=\"Tell me the lastest news of India and pakistan war in 2025\")]})\n",
    "\n",
    "response[\"messages\"]"
   ]
  },
  {
   "cell_type": "code",
   "execution_count": 21,
   "id": "5014dba1",
   "metadata": {},
   "outputs": [
    {
     "data": {
      "text/plain": [
       "[HumanMessage(content='Who is Razib Dash?', additional_kwargs={}, response_metadata={}, id='ca2abd76-24a9-42e5-bf39-0409c200b8d7'),\n",
       " AIMessage(content='', additional_kwargs={'tool_calls': [{'id': '0fqq2fkzv', 'function': {'arguments': '{\"query\":\"Razib Khan\"}', 'name': 'tavily_search_results_json'}, 'type': 'function'}]}, response_metadata={'token_usage': {'completion_tokens': 50, 'prompt_tokens': 922, 'total_tokens': 972, 'completion_time': 0.160239662, 'prompt_time': 0.02991131, 'queue_time': 0.05472931, 'total_time': 0.190150972}, 'model_name': 'llama3-70b-8192', 'system_fingerprint': 'fp_dd4ae1c591', 'finish_reason': 'tool_calls', 'logprobs': None}, id='run--9432ca5d-ac7f-41a9-9f9a-a2f74490c26f-0', tool_calls=[{'name': 'tavily_search_results_json', 'args': {'query': 'Razib Khan'}, 'id': '0fqq2fkzv', 'type': 'tool_call'}], usage_metadata={'input_tokens': 922, 'output_tokens': 50, 'total_tokens': 972}),\n",
       " ToolMessage(content='[{\"title\": \"25: Razib Khan - Genomics, Intelligence, and The Church of Science\", \"url\": \"https://www.dwarkesh.com/p/razib-khan\", \"content\": \"Razib Khan is a writer, geneticist, and blogger with an interest in history, genetics, culture, and evolutionary psychology.\", \"score\": 0.92074}, {\"title\": \"Razib Khan - RationalWiki\", \"url\": \"https://rationalwiki.org/wiki/Razib_Khan\", \"content\": \"Newamul \\\\\"Razib\\\\\" Khan :16 (1977–) is a Bangladeshi-American writer and an advocate of hereditarianism. Khan, on his blog, claims to have bachelor\\'s degrees\", \"score\": 0.9134376}, {\"title\": \"Razib Khan\", \"url\": \"https://www.razib.com/\", \"content\": \"Razib Khan is a geneticist and writer. Born in Bangladesh, he grew up in upstate New York and Oregon, and lived in California before moving to Austin, Texas.\", \"score\": 0.9126935}]', name='tavily_search_results_json', id='84cb81b2-23c0-4289-8e4b-7b5ad0a7ae13', tool_call_id='0fqq2fkzv', artifact={'query': 'Razib Khan', 'follow_up_questions': None, 'answer': None, 'images': [], 'results': [{'url': 'https://www.dwarkesh.com/p/razib-khan', 'title': '25: Razib Khan - Genomics, Intelligence, and The Church of Science', 'content': 'Razib Khan is a writer, geneticist, and blogger with an interest in history, genetics, culture, and evolutionary psychology.', 'score': 0.92074, 'raw_content': None}, {'url': 'https://rationalwiki.org/wiki/Razib_Khan', 'title': 'Razib Khan - RationalWiki', 'content': 'Newamul \"Razib\" Khan :16 (1977–) is a Bangladeshi-American writer and an advocate of hereditarianism. Khan, on his blog, claims to have bachelor\\'s degrees', 'score': 0.9134376, 'raw_content': None}, {'url': 'https://www.razib.com/', 'title': 'Razib Khan', 'content': 'Razib Khan is a geneticist and writer. Born in Bangladesh, he grew up in upstate New York and Oregon, and lived in California before moving to Austin, Texas.', 'score': 0.9126935, 'raw_content': None}], 'response_time': 6.41}),\n",
       " AIMessage(content='Razib Khan is a writer, geneticist, and blogger with an interest in history, genetics, culture, and evolutionary psychology.', additional_kwargs={}, response_metadata={'token_usage': {'completion_tokens': 28, 'prompt_tokens': 1235, 'total_tokens': 1263, 'completion_time': 0.097657456, 'prompt_time': 0.047736665, 'queue_time': 0.056610758, 'total_time': 0.145394121}, 'model_name': 'llama3-70b-8192', 'system_fingerprint': 'fp_dd4ae1c591', 'finish_reason': 'stop', 'logprobs': None}, id='run--1b12573a-c9b2-4cf3-8fa7-a307f8d28efc-0', usage_metadata={'input_tokens': 1235, 'output_tokens': 28, 'total_tokens': 1263})]"
      ]
     },
     "execution_count": 21,
     "metadata": {},
     "output_type": "execute_result"
    }
   ],
   "source": [
    "from langchain_core.messages import HumanMessage\n",
    "\n",
    "response = agent_executor.invoke({\"messages\": [HumanMessage(content=\"Who is Razib Dash?\")]})\n",
    "\n",
    "response[\"messages\"]"
   ]
  },
  {
   "cell_type": "code",
   "execution_count": 22,
   "id": "ca68d5a5",
   "metadata": {},
   "outputs": [
    {
     "name": "stdout",
     "output_type": "stream",
     "text": [
      "{'agent': {'messages': [AIMessage(content='', additional_kwargs={'tool_calls': [{'id': 'etpetnrn1', 'function': {'arguments': '{\"query\":\"latest news of India and Pakistan war in 2025\"}', 'name': 'tavily_search_results_json'}, 'type': 'function'}]}, response_metadata={'token_usage': {'completion_tokens': 85, 'prompt_tokens': 1939, 'total_tokens': 2024, 'completion_time': 0.242857143, 'prompt_time': 0.070493556, 'queue_time': -0.23193118899999998, 'total_time': 0.313350699}, 'model_name': 'llama3-70b-8192', 'system_fingerprint': 'fp_dd4ae1c591', 'finish_reason': 'tool_calls', 'logprobs': None}, id='run--73ecbf1c-c359-4a31-abf1-ab35ac7e667c-0', tool_calls=[{'name': 'tavily_search_results_json', 'args': {'query': 'latest news of India and Pakistan war in 2025'}, 'id': 'etpetnrn1', 'type': 'tool_call'}], usage_metadata={'input_tokens': 1939, 'output_tokens': 85, 'total_tokens': 2024})]}}\n",
      "----\n",
      "{'tools': {'messages': [ToolMessage(content='[{\"title\": \"The May 2025 India-Pakistan Conflict: Neither Quite the Same Nor ...\", \"url\": \"https://www.nbr.org/publication/the-may-2025-india-pakistan-conflict-neither-quite-the-same-nor-quite-another/\", \"content\": \"Morgan Phillips, “Vance Says India-Pakistan Conflict ‘None of Our Business’ as Trump Offers U.S. Help,” Fox News, May 9, 2025,  and Aijaz Hussain and Sheikh Saaliq, “Trump’s Mediation Offer Renews Focus on Kashmir after India-Pakistan Clash Risked Broader War,” Associated Press, May 12, 2025, \\\\n\\\\n Anbarasan Ethirajan, “Is China the Winner in the India-Pakistan Conflict?” BBC, May 19, 2025, [...] Cristopher Clary, “Four Days in May: The India-Pakistan Crisis of 2025,” Stimson, May 28, 2025, \\\\n\\\\n “Transcript of Special briefing on OPERATION SINDOOR,” Ministry of External Affairs (India), May 9, 2025, \\\\n\\\\n Rahul Roy-Chaudhury, “India-Pakistan Drone and Missile Conflict: Differing and Disputed Narratives,” International Institute for Strategic Studies, May 15, 2025, \\\\n\\\\n Clary, “Four Days in May.” [...] On May 10, 2025, following four days of intense fighting, India and Pakistan accepted a ceasefire, putting an end to what had been the greatest military escalation between the two countries in decades. Initially broken within a matter of hours, the ensuing uneasy truce remains in effect at the time of writing.\", \"score\": 0.88372874}, {\"title\": \"2025 India–Pakistan crisis - Wikipedia\", \"url\": \"https://en.wikipedia.org/wiki/2025_India%E2%80%93Pakistan_crisis\", \"content\": \"Following the Pahalgam terrorist attack on 22 April 2025, a crisis emerged between India and Pakistan, sparked by the killing of 25 Indian tourists by the militants in Kashmir. The Resistance Front (TRF) initially claimed responsibility for the attack. Armed skirmishes between India and Pakistan were reported along the Line of Control (LoC) beginning on 24 April. On 7 May 2025, India launched missile strikes in Pakistan, leading to a military conflict between the two countries. On 7 May 2025 [...] | |  |  | | --- | --- | | Date | 23 April 2025 – 10 May 2025 (2 weeks and 3 days) | | Location | International Boundary and Line of Control | | Status | Ceasefire   Cancellation of Indus Water Treaty and Shimla Agreement  Visa cancellation and travel ban for Pakistanis in India  Expulsion of Pakistani diplomats from India and withdrawal of Indian counterparts from Pakistan  Suspension of all trade including through third countries with India by Pakistan  Closure of Pakistani airspace for Indian [...] On 7 May 2025, India launched missile strikes on Pakistan, codenamed Operation Sindoor. According to India, the missile strikes targeted the militant groups Jaish-e-Mohammed and Lashkar-e-Taiba. According to Pakistan, the Indian strikes targeted civilian areas, including mosques, killing 31 Pakistani civilians. In return, said they had downed a number of Indian jets and damaged Indian infrastructure. It was believed to be the heaviest shelling attack since the Indo-Pakistani war of 1971. On\", \"score\": 0.8808076}, {\"title\": \"Conflict Between India and Pakistan | Global Conflict Tracker\", \"url\": \"https://www.cfr.org/global-conflict-tracker/conflict/conflict-between-india-and-pakistan\", \"content\": \"On April 22, 2025, tensions escalated after militants attacked Indian tourists in Kashmir, killing twenty-five Indian nationals and one Nepalese\", \"score\": 0.8145405}]', name='tavily_search_results_json', id='2a25c878-930d-4cae-852e-17b0473dfae2', tool_call_id='etpetnrn1', artifact={'query': 'latest news of India and Pakistan war in 2025', 'follow_up_questions': None, 'answer': None, 'images': [], 'results': [{'url': 'https://www.nbr.org/publication/the-may-2025-india-pakistan-conflict-neither-quite-the-same-nor-quite-another/', 'title': 'The May 2025 India-Pakistan Conflict: Neither Quite the Same Nor ...', 'content': 'Morgan Phillips, “Vance Says India-Pakistan Conflict ‘None of Our Business’ as Trump Offers U.S. Help,” Fox News, May 9, 2025,  and Aijaz Hussain and Sheikh Saaliq, “Trump’s Mediation Offer Renews Focus on Kashmir after India-Pakistan Clash Risked Broader War,” Associated Press, May 12, 2025, \\n\\n Anbarasan Ethirajan, “Is China the Winner in the India-Pakistan Conflict?” BBC, May 19, 2025, [...] Cristopher Clary, “Four Days in May: The India-Pakistan Crisis of 2025,” Stimson, May 28, 2025, \\n\\n “Transcript of Special briefing on OPERATION SINDOOR,” Ministry of External Affairs (India), May 9, 2025, \\n\\n Rahul Roy-Chaudhury, “India-Pakistan Drone and Missile Conflict: Differing and Disputed Narratives,” International Institute for Strategic Studies, May 15, 2025, \\n\\n Clary, “Four Days in May.” [...] On May 10, 2025, following four days of intense fighting, India and Pakistan accepted a ceasefire, putting an end to what had been the greatest military escalation between the two countries in decades. Initially broken within a matter of hours, the ensuing uneasy truce remains in effect at the time of writing.', 'score': 0.88372874, 'raw_content': None}, {'url': 'https://en.wikipedia.org/wiki/2025_India%E2%80%93Pakistan_crisis', 'title': '2025 India–Pakistan crisis - Wikipedia', 'content': 'Following the Pahalgam terrorist attack on 22 April 2025, a crisis emerged between India and Pakistan, sparked by the killing of 25 Indian tourists by the militants in Kashmir. The Resistance Front (TRF) initially claimed responsibility for the attack. Armed skirmishes between India and Pakistan were reported along the Line of Control (LoC) beginning on 24 April. On 7 May 2025, India launched missile strikes in Pakistan, leading to a military conflict between the two countries. On 7 May 2025 [...] | |  |  | | --- | --- | | Date | 23 April 2025 – 10 May 2025 (2 weeks and 3 days) | | Location | International Boundary and Line of Control | | Status | Ceasefire   Cancellation of Indus Water Treaty and Shimla Agreement  Visa cancellation and travel ban for Pakistanis in India  Expulsion of Pakistani diplomats from India and withdrawal of Indian counterparts from Pakistan  Suspension of all trade including through third countries with India by Pakistan  Closure of Pakistani airspace for Indian [...] On 7 May 2025, India launched missile strikes on Pakistan, codenamed Operation Sindoor. According to India, the missile strikes targeted the militant groups Jaish-e-Mohammed and Lashkar-e-Taiba. According to Pakistan, the Indian strikes targeted civilian areas, including mosques, killing 31 Pakistani civilians. In return, said they had downed a number of Indian jets and damaged Indian infrastructure. It was believed to be the heaviest shelling attack since the Indo-Pakistani war of 1971. On', 'score': 0.8808076, 'raw_content': None}, {'url': 'https://www.cfr.org/global-conflict-tracker/conflict/conflict-between-india-and-pakistan', 'title': 'Conflict Between India and Pakistan | Global Conflict Tracker', 'content': 'On April 22, 2025, tensions escalated after militants attacked Indian tourists in Kashmir, killing twenty-five Indian nationals and one Nepalese', 'score': 0.8145405, 'raw_content': None}], 'response_time': 6.93})]}}\n",
      "----\n",
      "{'agent': {'messages': [AIMessage(content=\"It appears that the situation between India and Pakistan in 2025 is a complex and volatile one. According to the provided information, a crisis emerged in April 2025 after a terrorist attack in Kashmir, which led to armed skirmishes along the Line of Control (LoC) and eventually escalated into a military conflict. \\n\\nIndia launched missile strikes in Pakistan on May 7, 2025, which was codenamed Operation Sindoor. Pakistan responded by downing Indian jets and damaging Indian infrastructure. The conflict resulted in significant losses on both sides, including civilian casualties.\\n\\nFortunately, a ceasefire was agreed upon on May 10, 2025, putting an end to the intense fighting. However, the situation remains volatile, with both countries taking measures such as canceling diplomatic visas, expelling diplomats, and suspending trade.\\n\\nIt's essential to monitor the situation closely and hope for a peaceful resolution to the conflict.\", additional_kwargs={}, response_metadata={'token_usage': {'completion_tokens': 186, 'prompt_tokens': 1847, 'total_tokens': 2033, 'completion_time': 0.609037033, 'prompt_time': 0.067725038, 'queue_time': 0.057974450999999996, 'total_time': 0.676762071}, 'model_name': 'llama3-70b-8192', 'system_fingerprint': 'fp_dd4ae1c591', 'finish_reason': 'stop', 'logprobs': None}, id='run--734dfdf6-c138-4c37-b079-88669dbcfa6d-0', usage_metadata={'input_tokens': 1847, 'output_tokens': 186, 'total_tokens': 2033})]}}\n",
      "----\n"
     ]
    }
   ],
   "source": [
    "for chunk in agent_executor.stream(\n",
    "    {\"messages\": [HumanMessage(content=\"Tell me the lastest news of India and pakistan war in 2025\")]}\n",
    "):\n",
    "    print(chunk)\n",
    "    print(\"----\")"
   ]
  },
  {
   "cell_type": "markdown",
   "id": "eb71f5ff",
   "metadata": {},
   "source": [
    "Adding memory\n"
   ]
  },
  {
   "cell_type": "code",
   "execution_count": 23,
   "id": "e8f34f35",
   "metadata": {},
   "outputs": [],
   "source": [
    "from langgraph.checkpoint.memory import MemorySaver\n",
    "\n",
    "memory = MemorySaver()"
   ]
  },
  {
   "cell_type": "code",
   "execution_count": 24,
   "id": "c92e872e",
   "metadata": {},
   "outputs": [],
   "source": [
    "agent_executor = create_react_agent(model, tools, checkpointer=memory)\n",
    "\n",
    "config = {\"configurable\": {\"thread_id\": \"001\"}}"
   ]
  },
  {
   "cell_type": "code",
   "execution_count": 25,
   "id": "2b2fde0e",
   "metadata": {},
   "outputs": [
    {
     "name": "stdout",
     "output_type": "stream",
     "text": [
      "{'agent': {'messages': [AIMessage(content='', additional_kwargs={'tool_calls': [{'id': '37crpmzec', 'function': {'arguments': '{\"query\":\"2024 eurocup winner\"}', 'name': 'tavily_search_results_json'}, 'type': 'function'}]}, response_metadata={'token_usage': {'completion_tokens': 51, 'prompt_tokens': 926, 'total_tokens': 977, 'completion_time': 0.145714286, 'prompt_time': 0.030260607, 'queue_time': 0.066678023, 'total_time': 0.175974893}, 'model_name': 'llama3-70b-8192', 'system_fingerprint': 'fp_dd4ae1c591', 'finish_reason': 'tool_calls', 'logprobs': None}, id='run--cedc1d98-ff72-42c1-90c1-3ee34abea0de-0', tool_calls=[{'name': 'tavily_search_results_json', 'args': {'query': '2024 eurocup winner'}, 'id': '37crpmzec', 'type': 'tool_call'}], usage_metadata={'input_tokens': 926, 'output_tokens': 51, 'total_tokens': 977})]}}\n",
      "----\n",
      "{'tools': {'messages': [ToolMessage(content='[{\"title\": \"Euro Cup 2024 final highlights: Spain wins record 4th title with a 2-1 ...\", \"url\": \"https://www.youtube.com/watch?v=jPG0J8PrrrQ\", \"content\": \"# Euro Cup 2024 final highlights: Spain wins record 4th title with a 2-1 victory against England\\\\n\\\\nThe Economic Times\\\\n9 likes\\\\n8382 views\\\\n15 Jul 2024\\\\nSpain secured a record fourth European Championship title on Sunday after Mikel Oyarzabal\\'s 87th-minute goal clinched a 2-1 victory over England, extending England\\'s long wait for a major trophy. Watch!\\\\n\\\\n► Subscribe to The Economic Times for the latest video updates. It\\'s free! - \\\\n\\\\n► More Videos @ ETTV - \\\\n\\\\n► [...] ► For business news on the go, download ET app:\\\\n\\\\nFollow ET on:\\\\n\\\\n► Facebook -  \\\\n► Twitter - \\\\n► LinkedIn - \\\\n► Instagram - \\\\n► Flipboard - \\\\n\\\\n#news #latestnews #economictimes #ET #TheEconomicTimes #businessnews\\\\n1 comments\", \"score\": 0.8512743}, {\"title\": \"Match results at the Euro 2024 football championship - Le Monde\", \"url\": \"https://www.lemonde.fr/en/sport/euro-2024/results/final/\", \"content\": \"News ### Euro 2024: Spain beats England 2-1 and wins record fourth European Championship title A deserving Roja dominated the Three Lions in Berlin, denying England its first title win in nearly 60 years.Published on July 14, 2024, at 11:24 pm (Paris), updated on July 15, 2024, at 7:47 am Le Monde with AFP\\\\n\\\\n Image 89 [...] News Subscribers only ### Euro 2024: Spain, the tournament\\'s most enjoyable team, beats England to lift trophy La Roja won the final (2-1) on Sunday, showcasing the most polished gameplay seen this summer. The Spanish team has now won a record fourth continental title.Published on July 15, 2024, at 10:36 am (Paris), updated on July 15, 2024, at 10:37 am Denis Ménétrier\\\\n\\\\n Image 87\", \"score\": 0.7999589}, {\"title\": \"Spain wins Euro 2024, defeating England 2-1 in a dramatic final to ...\", \"url\": \"https://www.cnn.com/2024/07/14/sport/spain-england-euro-2024-final-spt-intl\", \"content\": \"### CNN values your feedback\\\\n\\\\n# Spain wins Euro 2024, defeating England 2-1 in a dramatic final to claim record fourth European Championship\\\\n\\\\nFollow:\\\\n\\\\nAlvaro Morata lifts the Henri Delaunay trophy after Spain defeats England in the Euro 2024 final.\\\\n\\\\nSpain won a record-breaking fourth European Championship, defeating England 2-1 following a drama-filled second half in the Euro 2024 final on Sunday in Berlin. [...] Spain players celebrate after defeating England and winning Euro 2024.\\\\n\\\\nThe game began in tight fashion befitting a major final, with both teams feeling one another out as the players overcame any pre-match nerves. As predicted by many, Spain enjoyed the majority of the possession in the opening 30 minutes, however, it did so without producing any real goalscoring opportunities. [...] As the Three Lions sought a way back into the game, manager Gareth Southgate made the bold decision to bring off captain and all-time record goalscorer Harry Kane and replace him with Ollie Watkins, fresh off scoring a last-gasp winner in the semifinal against the Netherlands to book the team’s spot in the final.\", \"score\": 0.7738498}]', name='tavily_search_results_json', id='17961979-6930-496e-a732-d827460c7c80', tool_call_id='37crpmzec', artifact={'query': '2024 eurocup winner', 'follow_up_questions': None, 'answer': None, 'images': [], 'results': [{'url': 'https://www.youtube.com/watch?v=jPG0J8PrrrQ', 'title': 'Euro Cup 2024 final highlights: Spain wins record 4th title with a 2-1 ...', 'content': \"# Euro Cup 2024 final highlights: Spain wins record 4th title with a 2-1 victory against England\\n\\nThe Economic Times\\n9 likes\\n8382 views\\n15 Jul 2024\\nSpain secured a record fourth European Championship title on Sunday after Mikel Oyarzabal's 87th-minute goal clinched a 2-1 victory over England, extending England's long wait for a major trophy. Watch!\\n\\n► Subscribe to The Economic Times for the latest video updates. It's free! - \\n\\n► More Videos @ ETTV - \\n\\n► [...] ► For business news on the go, download ET app:\\n\\nFollow ET on:\\n\\n► Facebook -  \\n► Twitter - \\n► LinkedIn - \\n► Instagram - \\n► Flipboard - \\n\\n#news #latestnews #economictimes #ET #TheEconomicTimes #businessnews\\n1 comments\", 'score': 0.8512743, 'raw_content': None}, {'url': 'https://www.lemonde.fr/en/sport/euro-2024/results/final/', 'title': 'Match results at the Euro 2024 football championship - Le Monde', 'content': \"News ### Euro 2024: Spain beats England 2-1 and wins record fourth European Championship title A deserving Roja dominated the Three Lions in Berlin, denying England its first title win in nearly 60 years.Published on July 14, 2024, at 11:24 pm (Paris), updated on July 15, 2024, at 7:47 am Le Monde with AFP\\n\\n Image 89 [...] News Subscribers only ### Euro 2024: Spain, the tournament's most enjoyable team, beats England to lift trophy La Roja won the final (2-1) on Sunday, showcasing the most polished gameplay seen this summer. The Spanish team has now won a record fourth continental title.Published on July 15, 2024, at 10:36 am (Paris), updated on July 15, 2024, at 10:37 am Denis Ménétrier\\n\\n Image 87\", 'score': 0.7999589, 'raw_content': None}, {'url': 'https://www.cnn.com/2024/07/14/sport/spain-england-euro-2024-final-spt-intl', 'title': 'Spain wins Euro 2024, defeating England 2-1 in a dramatic final to ...', 'content': '### CNN values your feedback\\n\\n# Spain wins Euro 2024, defeating England 2-1 in a dramatic final to claim record fourth European Championship\\n\\nFollow:\\n\\nAlvaro Morata lifts the Henri Delaunay trophy after Spain defeats England in the Euro 2024 final.\\n\\nSpain won a record-breaking fourth European Championship, defeating England 2-1 following a drama-filled second half in the Euro 2024 final on Sunday in Berlin. [...] Spain players celebrate after defeating England and winning Euro 2024.\\n\\nThe game began in tight fashion befitting a major final, with both teams feeling one another out as the players overcame any pre-match nerves. As predicted by many, Spain enjoyed the majority of the possession in the opening 30 minutes, however, it did so without producing any real goalscoring opportunities. [...] As the Three Lions sought a way back into the game, manager Gareth Southgate made the bold decision to bring off captain and all-time record goalscorer Harry Kane and replace him with Ollie Watkins, fresh off scoring a last-gasp winner in the semifinal against the Netherlands to book the team’s spot in the final.', 'score': 0.7738498, 'raw_content': None}], 'response_time': 3.57})]}}\n",
      "----\n",
      "{'agent': {'messages': [AIMessage(content='Spain won the 2024 Eurocup. They defeated England 2-1 in the final to claim their record fourth European Championship title.', additional_kwargs={}, response_metadata={'token_usage': {'completion_tokens': 29, 'prompt_tokens': 1823, 'total_tokens': 1852, 'completion_time': 0.13718845, 'prompt_time': 0.072781347, 'queue_time': 0.06612358300000001, 'total_time': 0.209969797}, 'model_name': 'llama3-70b-8192', 'system_fingerprint': 'fp_dd4ae1c591', 'finish_reason': 'stop', 'logprobs': None}, id='run--b84929e3-7116-40f9-9a26-941da490da84-0', usage_metadata={'input_tokens': 1823, 'output_tokens': 29, 'total_tokens': 1852})]}}\n",
      "----\n"
     ]
    }
   ],
   "source": [
    "for chunk in agent_executor.stream(\n",
    "    {\"messages\": [HumanMessage(content=\"Who won the 2024 soccer Eurocup?\")]}, config\n",
    "):\n",
    "    print(chunk)\n",
    "    print(\"----\")"
   ]
  },
  {
   "cell_type": "code",
   "execution_count": 26,
   "id": "15a0d989",
   "metadata": {},
   "outputs": [
    {
     "name": "stdout",
     "output_type": "stream",
     "text": [
      "{'agent': {'messages': [AIMessage(content='', additional_kwargs={'tool_calls': [{'id': '8sgmk8e5z', 'function': {'arguments': '{\"query\":\"top stars of Spain\\'s Euro 2024 winning team\"}', 'name': 'tavily_search_results_json'}, 'type': 'function'}]}, response_metadata={'token_usage': {'completion_tokens': 47, 'prompt_tokens': 1871, 'total_tokens': 1918, 'completion_time': 0.171697052, 'prompt_time': 0.076854206, 'queue_time': 0.053266514, 'total_time': 0.248551258}, 'model_name': 'llama3-70b-8192', 'system_fingerprint': 'fp_dd4ae1c591', 'finish_reason': 'tool_calls', 'logprobs': None}, id='run--576938de-d9df-4490-b0f1-77137b2e3a06-0', tool_calls=[{'name': 'tavily_search_results_json', 'args': {'query': \"top stars of Spain's Euro 2024 winning team\"}, 'id': '8sgmk8e5z', 'type': 'tool_call'}], usage_metadata={'input_tokens': 1871, 'output_tokens': 47, 'total_tokens': 1918})]}}\n",
      "----\n",
      "{'tools': {'messages': [ToolMessage(content='[{\"title\": \"Euro 2024 winners Spain dominate UEFA team of the tournament\", \"url\": \"https://www.espn.com/soccer/story/_/id/40574014/euro-2024-winners-spain-dominate-uefa-team-tournament\", \"content\": \"## ESPN\\\\n\\\\n# Euro 2024 winners Spain dominate UEFA team of the tournament\\\\n\\\\nCopy Link\\\\n\\\\nEngland defender Kyle Walker has been named in the European Championship Team of the Tournament, with six players from the victorious Spain side also named.\\\\n\\\\nWalker is joined by Switzerland\\'s Manuel Akanji, William Saliba of France and Spanish left-back Marc Cucurella in defence, with France\\'s Mike Maignan included as goalkeeper.\\\\n\\\\nUEFA has named an all-Spanish midfield of Rodri, Dani Olmo and Fabián Ruiz. [...] ## Editor\\'s Picks\\\\n\\\\n## Southgate leaves England after Euro heartbreak 341dJames Olley\\\\n\\\\n## The story of the Euro 2024 final in pictures 343dESPN\\\\n\\\\n## Euro 2024 rapid reaction: How Spain beat England, Yamal magic, Southgate, more 343dESPN\\\\n\\\\nGermany forward Jamal Musiala, who along with Olmo, was one of the joint top scorers in the tournament with three goals, is flanked by Nico Williams and 17-year-old Lamine Yamal in the front three.\", \"score\": 0.8124067}, {\"title\": \"Spain Euro 2024 squad: Final list of La Roja players on national ...\", \"url\": \"https://www.sportingnews.com/us/soccer/news/spain-euro-2024-squad-players-national-team-roster/55527da1f91a1608da30a768\", \"content\": \"Spain Euro 2024 squad and player roster\\u200b\\u200b With Manchester City star Rodri, Paris Saint-Germain\\'s Fabian Ruiz, and Barcelona duo Pedri and Fermin\", \"score\": 0.7653308}, {\"title\": \"Spain | Squad | UEFA EURO 2024\", \"url\": \"https://www.uefa.com/euro2024/teams/122--spain/squad/\", \"content\": \"Forwards ; 7. Álvaro Morata Morata ; 9. Joselu Joselu ; 10. Dani Olmo Olmo ; 11. Ferran Torres Ferran Torres ; 19. Lamine Yamal Yamal.\", \"score\": 0.74229145}]', name='tavily_search_results_json', id='e563d5a9-6d28-44fc-8740-b1383bdf3ac5', tool_call_id='8sgmk8e5z', artifact={'query': \"top stars of Spain's Euro 2024 winning team\", 'follow_up_questions': None, 'answer': None, 'images': [], 'results': [{'url': 'https://www.espn.com/soccer/story/_/id/40574014/euro-2024-winners-spain-dominate-uefa-team-tournament', 'title': 'Euro 2024 winners Spain dominate UEFA team of the tournament', 'content': \"## ESPN\\n\\n# Euro 2024 winners Spain dominate UEFA team of the tournament\\n\\nCopy Link\\n\\nEngland defender Kyle Walker has been named in the European Championship Team of the Tournament, with six players from the victorious Spain side also named.\\n\\nWalker is joined by Switzerland's Manuel Akanji, William Saliba of France and Spanish left-back Marc Cucurella in defence, with France's Mike Maignan included as goalkeeper.\\n\\nUEFA has named an all-Spanish midfield of Rodri, Dani Olmo and Fabián Ruiz. [...] ## Editor's Picks\\n\\n## Southgate leaves England after Euro heartbreak 341dJames Olley\\n\\n## The story of the Euro 2024 final in pictures 343dESPN\\n\\n## Euro 2024 rapid reaction: How Spain beat England, Yamal magic, Southgate, more 343dESPN\\n\\nGermany forward Jamal Musiala, who along with Olmo, was one of the joint top scorers in the tournament with three goals, is flanked by Nico Williams and 17-year-old Lamine Yamal in the front three.\", 'score': 0.8124067, 'raw_content': None}, {'url': 'https://www.sportingnews.com/us/soccer/news/spain-euro-2024-squad-players-national-team-roster/55527da1f91a1608da30a768', 'title': 'Spain Euro 2024 squad: Final list of La Roja players on national ...', 'content': \"Spain Euro 2024 squad and player roster\\u200b\\u200b With Manchester City star Rodri, Paris Saint-Germain's Fabian Ruiz, and Barcelona duo Pedri and Fermin\", 'score': 0.7653308, 'raw_content': None}, {'url': 'https://www.uefa.com/euro2024/teams/122--spain/squad/', 'title': 'Spain | Squad | UEFA EURO 2024', 'content': 'Forwards ; 7. Álvaro Morata Morata ; 9. Joselu Joselu ; 10. Dani Olmo Olmo ; 11. Ferran Torres Ferran Torres ; 19. Lamine Yamal Yamal.', 'score': 0.74229145, 'raw_content': None}], 'response_time': 2.81})]}}\n",
      "----\n",
      "{'agent': {'messages': [AIMessage(content=\"Some of the top stars of Spain's Euro 2024 winning team include Rodri, Dani Olmo, Fabián Ruiz, Marc Cucurella, Álvaro Morata, Ferran Torres, and Lamine Yamal.\", additional_kwargs={}, response_metadata={'token_usage': {'completion_tokens': 51, 'prompt_tokens': 2478, 'total_tokens': 2529, 'completion_time': 0.221157074, 'prompt_time': 0.096133631, 'queue_time': 0.05442313600000001, 'total_time': 0.317290705}, 'model_name': 'llama3-70b-8192', 'system_fingerprint': 'fp_dd4ae1c591', 'finish_reason': 'stop', 'logprobs': None}, id='run--485f850f-502d-4afe-966d-2c213968aff4-0', usage_metadata={'input_tokens': 2478, 'output_tokens': 51, 'total_tokens': 2529})]}}\n",
      "----\n"
     ]
    }
   ],
   "source": [
    "for chunk in agent_executor.stream(\n",
    "    {\"messages\": [HumanMessage(content=\"Who were the top stars of that winner team?\")]}, config\n",
    "):\n",
    "    print(chunk)\n",
    "    print(\"----\")"
   ]
  },
  {
   "cell_type": "code",
   "execution_count": null,
   "id": "d1cc40d7",
   "metadata": {},
   "outputs": [],
   "source": []
  }
 ],
 "metadata": {
  "kernelspec": {
   "display_name": "llmapp",
   "language": "python",
   "name": "python3"
  },
  "language_info": {
   "codemirror_mode": {
    "name": "ipython",
    "version": 3
   },
   "file_extension": ".py",
   "mimetype": "text/x-python",
   "name": "python",
   "nbconvert_exporter": "python",
   "pygments_lexer": "ipython3",
   "version": "3.11.13"
  }
 },
 "nbformat": 4,
 "nbformat_minor": 5
}
